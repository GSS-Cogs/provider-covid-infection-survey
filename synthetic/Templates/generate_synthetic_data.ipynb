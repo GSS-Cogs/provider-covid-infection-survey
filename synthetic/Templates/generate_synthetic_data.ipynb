{
 "cells": [
  {
   "cell_type": "code",
   "execution_count": 10,
   "metadata": {},
   "outputs": [],
   "source": [
    "import pandas as pd\n",
    "import numpy as np"
   ]
  },
  {
   "cell_type": "code",
   "execution_count": 11,
   "metadata": {},
   "outputs": [],
   "source": [
    "# import the datasets\n",
    "age_df = pd.read_csv(\"age_over_time_poststratified_ageg_sy_2022-11-09_to_2023-01-03.csv\")\n",
    "region_df = pd.read_csv(\"prev_time_series_mrp_20230103.csv\")"
   ]
  },
  {
   "cell_type": "code",
   "execution_count": 19,
   "metadata": {},
   "outputs": [
    {
     "data": {
      "text/html": [
       "<div>\n",
       "<style scoped>\n",
       "    .dataframe tbody tr th:only-of-type {\n",
       "        vertical-align: middle;\n",
       "    }\n",
       "\n",
       "    .dataframe tbody tr th {\n",
       "        vertical-align: top;\n",
       "    }\n",
       "\n",
       "    .dataframe thead th {\n",
       "        text-align: right;\n",
       "    }\n",
       "</style>\n",
       "<table border=\"1\" class=\"dataframe\">\n",
       "  <thead>\n",
       "    <tr style=\"text-align: right;\">\n",
       "      <th></th>\n",
       "      <th>model_variable</th>\n",
       "      <th>study_date</th>\n",
       "      <th>L95_p</th>\n",
       "      <th>U95_p</th>\n",
       "      <th>median_p</th>\n",
       "    </tr>\n",
       "  </thead>\n",
       "  <tbody>\n",
       "    <tr>\n",
       "      <th>134</th>\n",
       "      <td>12SY-24</td>\n",
       "      <td>2022-01-12</td>\n",
       "      <td>0</td>\n",
       "      <td>0</td>\n",
       "      <td>0</td>\n",
       "    </tr>\n",
       "    <tr>\n",
       "      <th>22</th>\n",
       "      <td>02-6SY</td>\n",
       "      <td>2022-01-12</td>\n",
       "      <td>0</td>\n",
       "      <td>0</td>\n",
       "      <td>0</td>\n",
       "    </tr>\n",
       "    <tr>\n",
       "      <th>414</th>\n",
       "      <td>All</td>\n",
       "      <td>2022-01-12</td>\n",
       "      <td>0</td>\n",
       "      <td>0</td>\n",
       "      <td>0</td>\n",
       "    </tr>\n",
       "    <tr>\n",
       "      <th>78</th>\n",
       "      <td>07SY-11SY</td>\n",
       "      <td>2022-01-12</td>\n",
       "      <td>0</td>\n",
       "      <td>0</td>\n",
       "      <td>0</td>\n",
       "    </tr>\n",
       "    <tr>\n",
       "      <th>246</th>\n",
       "      <td>35-49</td>\n",
       "      <td>2022-01-12</td>\n",
       "      <td>0</td>\n",
       "      <td>0</td>\n",
       "      <td>0</td>\n",
       "    </tr>\n",
       "  </tbody>\n",
       "</table>\n",
       "</div>"
      ],
      "text/plain": [
       "    model_variable study_date  L95_p  U95_p  median_p\n",
       "134        12SY-24 2022-01-12      0      0         0\n",
       "22          02-6SY 2022-01-12      0      0         0\n",
       "414            All 2022-01-12      0      0         0\n",
       "78       07SY-11SY 2022-01-12      0      0         0\n",
       "246          35-49 2022-01-12      0      0         0"
      ]
     },
     "execution_count": 19,
     "metadata": {},
     "output_type": "execute_result"
    }
   ],
   "source": [
    "# Analysing the age dataset\n",
    "age_df.head()"
   ]
  },
  {
   "cell_type": "code",
   "execution_count": 13,
   "metadata": {},
   "outputs": [
    {
     "data": {
      "text/html": [
       "<div>\n",
       "<style scoped>\n",
       "    .dataframe tbody tr th:only-of-type {\n",
       "        vertical-align: middle;\n",
       "    }\n",
       "\n",
       "    .dataframe tbody tr th {\n",
       "        vertical-align: top;\n",
       "    }\n",
       "\n",
       "    .dataframe thead th {\n",
       "        text-align: right;\n",
       "    }\n",
       "</style>\n",
       "<table border=\"1\" class=\"dataframe\">\n",
       "  <thead>\n",
       "    <tr style=\"text-align: right;\">\n",
       "      <th></th>\n",
       "      <th>model_variable</th>\n",
       "      <th>study_date</th>\n",
       "      <th>L95_p</th>\n",
       "      <th>U95_p</th>\n",
       "      <th>median_p</th>\n",
       "    </tr>\n",
       "  </thead>\n",
       "  <tbody>\n",
       "    <tr>\n",
       "      <th>134</th>\n",
       "      <td>12SY-24</td>\n",
       "      <td>2022-01-12</td>\n",
       "      <td>0</td>\n",
       "      <td>0</td>\n",
       "      <td>0</td>\n",
       "    </tr>\n",
       "    <tr>\n",
       "      <th>22</th>\n",
       "      <td>02-6SY</td>\n",
       "      <td>2022-01-12</td>\n",
       "      <td>0</td>\n",
       "      <td>0</td>\n",
       "      <td>0</td>\n",
       "    </tr>\n",
       "    <tr>\n",
       "      <th>414</th>\n",
       "      <td>All</td>\n",
       "      <td>2022-01-12</td>\n",
       "      <td>0</td>\n",
       "      <td>0</td>\n",
       "      <td>0</td>\n",
       "    </tr>\n",
       "    <tr>\n",
       "      <th>78</th>\n",
       "      <td>07SY-11SY</td>\n",
       "      <td>2022-01-12</td>\n",
       "      <td>0</td>\n",
       "      <td>0</td>\n",
       "      <td>0</td>\n",
       "    </tr>\n",
       "    <tr>\n",
       "      <th>246</th>\n",
       "      <td>35-49</td>\n",
       "      <td>2022-01-12</td>\n",
       "      <td>0</td>\n",
       "      <td>0</td>\n",
       "      <td>0</td>\n",
       "    </tr>\n",
       "  </tbody>\n",
       "</table>\n",
       "</div>"
      ],
      "text/plain": [
       "    model_variable study_date  L95_p  U95_p  median_p\n",
       "134        12SY-24 2022-01-12      0      0         0\n",
       "22          02-6SY 2022-01-12      0      0         0\n",
       "414            All 2022-01-12      0      0         0\n",
       "78       07SY-11SY 2022-01-12      0      0         0\n",
       "246          35-49 2022-01-12      0      0         0"
      ]
     },
     "execution_count": 13,
     "metadata": {},
     "output_type": "execute_result"
    }
   ],
   "source": [
    "# Clean up the data\n",
    "age_df = age_df[[\"model_variable\", \"study_date\", \"L95_p\", \"U95_p\", \"median_p\"]]\n",
    "age_df[\"study_date\"] = pd.to_datetime(age_df[\"study_date\"])\n",
    "age_df.sort_values(by=[\"study_date\"], inplace=True)\n",
    "age_df.head()"
   ]
  },
  {
   "cell_type": "code",
   "execution_count": null,
   "metadata": {},
   "outputs": [],
   "source": [
    "# Dataset slice for one of the model_variable\n",
    "age_df[\"median_p\"].loc[age_df[\"model_variable\"] == \"All\"]"
   ]
  },
  {
   "cell_type": "code",
   "execution_count": 15,
   "metadata": {},
   "outputs": [],
   "source": [
    "def walk(n: int, mu: float, sigma: float) -> np.ndarray:\n",
    "    walk = [np.random.normal(loc=mu, scale=sigma)]\n",
    "\n",
    "    for i in range(n-1):\n",
    "        walk.append(walk[-1]+np.random.choice(a=[-1,0,1])*np.random.normal(loc=mu, scale=sigma))\n",
    "\n",
    "    walk = np.absolute(walk/np.linalg.norm(walk))\n",
    "    \n",
    "    return walk"
   ]
  },
  {
   "cell_type": "code",
   "execution_count": null,
   "metadata": {},
   "outputs": [],
   "source": [
    "def synth_column(df: pd.DataFrame, by_column: str, on_column: str, mu: float, sigma = float) -> pd.DataFrame:\n",
    "\n",
    "    for value in by_column.values():\n",
    "        df[]\n"
   ]
  },
  {
   "cell_type": "code",
   "execution_count": 34,
   "metadata": {},
   "outputs": [
    {
     "ename": "TypeError",
     "evalue": "The axis argument to unique is not supported for dtype object",
     "output_type": "error",
     "traceback": [
      "\u001b[0;31m---------------------------------------------------------------------------\u001b[0m",
      "\u001b[0;31mTypeError\u001b[0m                                 Traceback (most recent call last)",
      "File \u001b[0;32m~/.pyenv/versions/3.10.3/lib/python3.10/site-packages/numpy/lib/arraysetops.py:294\u001b[0m, in \u001b[0;36munique\u001b[0;34m(ar, return_index, return_inverse, return_counts, axis)\u001b[0m\n\u001b[1;32m    293\u001b[0m \u001b[39mif\u001b[39;00m ar\u001b[39m.\u001b[39mshape[\u001b[39m1\u001b[39m] \u001b[39m>\u001b[39m \u001b[39m0\u001b[39m:\n\u001b[0;32m--> 294\u001b[0m     consolidated \u001b[39m=\u001b[39m ar\u001b[39m.\u001b[39;49mview(dtype)\n\u001b[1;32m    295\u001b[0m \u001b[39melse\u001b[39;00m:\n\u001b[1;32m    296\u001b[0m     \u001b[39m# If ar.shape[1] == 0, then dtype will be `np.dtype([])`, which is\u001b[39;00m\n\u001b[1;32m    297\u001b[0m     \u001b[39m# a data type with itemsize 0, and the call `ar.view(dtype)` will\u001b[39;00m\n\u001b[1;32m    298\u001b[0m     \u001b[39m# fail.  Instead, we'll use `np.empty` to explicitly create the\u001b[39;00m\n\u001b[1;32m    299\u001b[0m     \u001b[39m# array with shape `(len(ar),)`.  Because `dtype` in this case has\u001b[39;00m\n\u001b[1;32m    300\u001b[0m     \u001b[39m# itemsize 0, the total size of the result is still 0 bytes.\u001b[39;00m\n",
      "File \u001b[0;32m~/.pyenv/versions/3.10.3/lib/python3.10/site-packages/numpy/core/_internal.py:494\u001b[0m, in \u001b[0;36m_view_is_safe\u001b[0;34m(oldtype, newtype)\u001b[0m\n\u001b[1;32m    493\u001b[0m \u001b[39mif\u001b[39;00m newtype\u001b[39m.\u001b[39mhasobject \u001b[39mor\u001b[39;00m oldtype\u001b[39m.\u001b[39mhasobject:\n\u001b[0;32m--> 494\u001b[0m     \u001b[39mraise\u001b[39;00m \u001b[39mTypeError\u001b[39;00m(\u001b[39m\"\u001b[39m\u001b[39mCannot change data-type for object array.\u001b[39m\u001b[39m\"\u001b[39m)\n\u001b[1;32m    495\u001b[0m \u001b[39mreturn\u001b[39;00m\n",
      "\u001b[0;31mTypeError\u001b[0m: Cannot change data-type for object array.",
      "\nThe above exception was the direct cause of the following exception:\n",
      "\u001b[0;31mTypeError\u001b[0m                                 Traceback (most recent call last)",
      "\u001b[1;32m/Users/waf/git/provider-covid-infection-survey/synthetic/Templates/generate_synthetic_data.ipynb Cell 8\u001b[0m in \u001b[0;36m<cell line: 1>\u001b[0;34m()\u001b[0m\n\u001b[0;32m----> <a href='vscode-notebook-cell:/Users/waf/git/provider-covid-infection-survey/synthetic/Templates/generate_synthetic_data.ipynb#X31sZmlsZQ%3D%3D?line=0'>1</a>\u001b[0m np\u001b[39m.\u001b[39;49munique(region_df[[\u001b[39m\"\u001b[39;49m\u001b[39mregion\u001b[39;49m\u001b[39m\"\u001b[39;49m, \u001b[39m\"\u001b[39;49m\u001b[39mcountry\u001b[39;49m\u001b[39m\"\u001b[39;49m, \u001b[39m\"\u001b[39;49m\u001b[39mvariant\u001b[39;49m\u001b[39m\"\u001b[39;49m]]\u001b[39m.\u001b[39;49mvalues, axis\u001b[39m=\u001b[39;49m\u001b[39m0\u001b[39;49m)\n",
      "File \u001b[0;32m<__array_function__ internals>:180\u001b[0m, in \u001b[0;36munique\u001b[0;34m(*args, **kwargs)\u001b[0m\n",
      "File \u001b[0;32m~/.pyenv/versions/3.10.3/lib/python3.10/site-packages/numpy/lib/arraysetops.py:305\u001b[0m, in \u001b[0;36munique\u001b[0;34m(ar, return_index, return_inverse, return_counts, axis)\u001b[0m\n\u001b[1;32m    302\u001b[0m \u001b[39mexcept\u001b[39;00m \u001b[39mTypeError\u001b[39;00m \u001b[39mas\u001b[39;00m e:\n\u001b[1;32m    303\u001b[0m     \u001b[39m# There's no good way to do this for object arrays, etc...\u001b[39;00m\n\u001b[1;32m    304\u001b[0m     msg \u001b[39m=\u001b[39m \u001b[39m'\u001b[39m\u001b[39mThe axis argument to unique is not supported for dtype \u001b[39m\u001b[39m{dt}\u001b[39;00m\u001b[39m'\u001b[39m\n\u001b[0;32m--> 305\u001b[0m     \u001b[39mraise\u001b[39;00m \u001b[39mTypeError\u001b[39;00m(msg\u001b[39m.\u001b[39mformat(dt\u001b[39m=\u001b[39mar\u001b[39m.\u001b[39mdtype)) \u001b[39mfrom\u001b[39;00m \u001b[39me\u001b[39;00m\n\u001b[1;32m    307\u001b[0m \u001b[39mdef\u001b[39;00m \u001b[39mreshape_uniq\u001b[39m(uniq):\n\u001b[1;32m    308\u001b[0m     n \u001b[39m=\u001b[39m \u001b[39mlen\u001b[39m(uniq)\n",
      "\u001b[0;31mTypeError\u001b[0m: The axis argument to unique is not supported for dtype object"
     ]
    }
   ],
   "source": [
    "np.unique(region_df[[\"region\", \"country\", \"variant\"]].values, axis=0)"
   ]
  },
  {
   "cell_type": "code",
   "execution_count": 36,
   "metadata": {},
   "outputs": [
    {
     "data": {
      "text/plain": [
       "array([['Northern Ireland', 'Northern Ireland', 'ctall'],\n",
       "       ['Northern Ireland', 'Northern Ireland', 'ctall'],\n",
       "       ['Northern Ireland', 'Northern Ireland', 'ctall'],\n",
       "       ...,\n",
       "       ['North East', 'England', 'ctnot4not7'],\n",
       "       ['North East', 'England', 'ctnot4not7'],\n",
       "       ['North East', 'England', 'ctnot4not7']], dtype=object)"
      ]
     },
     "execution_count": 36,
     "metadata": {},
     "output_type": "execute_result"
    }
   ],
   "source": [
    "region_df[[\"region\", \"country\", \"variant\"]].v"
   ]
  },
  {
   "cell_type": "code",
   "execution_count": null,
   "metadata": {},
   "outputs": [],
   "source": []
  }
 ],
 "metadata": {
  "kernelspec": {
   "display_name": "Python 3",
   "language": "python",
   "name": "python3"
  },
  "language_info": {
   "codemirror_mode": {
    "name": "ipython",
    "version": 3
   },
   "file_extension": ".py",
   "mimetype": "text/x-python",
   "name": "python",
   "nbconvert_exporter": "python",
   "pygments_lexer": "ipython3",
   "version": "3.10.3 (main, Apr 20 2022, 12:34:17) [Clang 13.1.6 (clang-1316.0.21.2.3)]"
  },
  "orig_nbformat": 4,
  "vscode": {
   "interpreter": {
    "hash": "5fe408ad7d83307965bca614aad4fba661ef4077f81ca07f886724010a3db310"
   }
  }
 },
 "nbformat": 4,
 "nbformat_minor": 2
}
